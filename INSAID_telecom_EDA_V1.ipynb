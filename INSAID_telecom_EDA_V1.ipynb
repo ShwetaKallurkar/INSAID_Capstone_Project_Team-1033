{
  "nbformat": 4,
  "nbformat_minor": 0,
  "metadata": {
    "accelerator": "GPU",
    "colab": {
      "name": "INSAID telecom EDA-V1.ipynb",
      "provenance": [],
      "collapsed_sections": [],
      "include_colab_link": true
    },
    "kernelspec": {
      "display_name": "Python 3",
      "language": "python",
      "name": "python3"
    },
    "language_info": {
      "codemirror_mode": {
        "name": "ipython",
        "version": 3
      },
      "file_extension": ".py",
      "mimetype": "text/x-python",
      "name": "python",
      "nbconvert_exporter": "python",
      "pygments_lexer": "ipython3",
      "version": "3.7.3"
    }
  },
  "cells": [
    {
      "cell_type": "markdown",
      "metadata": {
        "id": "view-in-github",
        "colab_type": "text"
      },
      "source": [
        "<a href=\"https://colab.research.google.com/github/aniacharya/INSAID_Capstone_Project_Team-1033/blob/master/INSAID_telecom_EDA_V1.ipynb\" target=\"_parent\"><img src=\"https://colab.research.google.com/assets/colab-badge.svg\" alt=\"Open In Colab\"/></a>"
      ]
    },
    {
      "cell_type": "markdown",
      "metadata": {
        "colab_type": "text",
        "id": "PHoyKE_E7E6F"
      },
      "source": [
        "# ***INSAID telecom data analysis project***\n"
      ]
    },
    {
      "cell_type": "markdown",
      "metadata": {
        "id": "ipk9T4KpGk6_",
        "colab_type": "text"
      },
      "source": [
        "**1. Introduction to Data Visualization**\n",
        "\n",
        "Data is only as good as it’s presented.\n",
        "Data visualization is one of the core skills in data science. In order to start building useful models, we need to understand the underlying dataset. You will never be an expert on the data you are working with, and will always need to explore the variables in great depth before you can move on to building a model or doing something else with the data.\n",
        "Effective data visualization is the most important tool in your arsenal for getting this done, and hence an critical skill for you to master. Also data visulaization helps to understand the problem better, and if you'll understand the problem better, there are higher chances that you'll find a better solution for it, and that also in less time.\n",
        "\n",
        "Why Plotting??\n",
        "Visual representation helps humans to inspect and understand better. Humans process visual inputs better and faster than all other types of inputs. This is the key reason for visualizing data. When the representation of data is pictorial it’s easier to find patterns, digest the data and develop insights to solve the problems."
      ]
    },
    {
      "cell_type": "markdown",
      "metadata": {
        "id": "GujvFekpGk7D",
        "colab_type": "text"
      },
      "source": [
        "**2. Importing the packages**\n",
        "\n",
        "Import all the modules and give them suitable alias names, so that you dont have to repeatedly use the longer form of the name."
      ]
    },
    {
      "cell_type": "code",
      "metadata": {
        "id": "E4xVzoFDG4gm",
        "colab_type": "code",
        "colab": {
          "base_uri": "https://localhost:8080/",
          "height": 419
        },
        "outputId": "832503bd-8bb2-4aa9-bbb7-a5aaedbd5733"
      },
      "source": [
        "pip install mysql-connector-python"
      ],
      "execution_count": 3,
      "outputs": [
        {
          "output_type": "stream",
          "text": [
            "Collecting mysql-connector-python\n",
            "\u001b[?25l  Downloading https://files.pythonhosted.org/packages/d8/29/45c72a2292011816aab7f73e778872e79573a2ecc897592f7119ed802a82/mysql_connector_python-8.0.19-cp36-cp36m-manylinux1_x86_64.whl (14.7MB)\n",
            "\u001b[K     |████████████████████████████████| 14.7MB 1.3MB/s \n",
            "\u001b[?25hCollecting protobuf==3.6.1\n",
            "\u001b[?25l  Downloading https://files.pythonhosted.org/packages/c2/f9/28787754923612ca9bfdffc588daa05580ed70698add063a5629d1a4209d/protobuf-3.6.1-cp36-cp36m-manylinux1_x86_64.whl (1.1MB)\n",
            "\u001b[K     |████████████████████████████████| 1.1MB 61.4MB/s \n",
            "\u001b[?25hCollecting dnspython==1.16.0\n",
            "\u001b[?25l  Downloading https://files.pythonhosted.org/packages/ec/d3/3aa0e7213ef72b8585747aa0e271a9523e713813b9a20177ebe1e939deb0/dnspython-1.16.0-py2.py3-none-any.whl (188kB)\n",
            "\u001b[K     |████████████████████████████████| 194kB 81.0MB/s \n",
            "\u001b[?25hRequirement already satisfied: setuptools in /usr/local/lib/python3.6/dist-packages (from protobuf==3.6.1->mysql-connector-python) (45.1.0)\n",
            "Requirement already satisfied: six>=1.9 in /usr/local/lib/python3.6/dist-packages (from protobuf==3.6.1->mysql-connector-python) (1.12.0)\n",
            "\u001b[31mERROR: tensorflow-metadata 0.21.1 has requirement protobuf<4,>=3.7, but you'll have protobuf 3.6.1 which is incompatible.\u001b[0m\n",
            "Installing collected packages: protobuf, dnspython, mysql-connector-python\n",
            "  Found existing installation: protobuf 3.10.0\n",
            "    Uninstalling protobuf-3.10.0:\n",
            "      Successfully uninstalled protobuf-3.10.0\n",
            "Successfully installed dnspython-1.16.0 mysql-connector-python-8.0.19 protobuf-3.6.1\n"
          ],
          "name": "stdout"
        },
        {
          "output_type": "display_data",
          "data": {
            "application/vnd.colab-display-data+json": {
              "pip_warning": {
                "packages": [
                  "google"
                ]
              }
            }
          },
          "metadata": {
            "tags": []
          }
        }
      ]
    },
    {
      "cell_type": "code",
      "metadata": {
        "colab_type": "code",
        "id": "JhdFZ4rwOy71",
        "colab": {}
      },
      "source": [
        "import mysql.connector\n",
        "import pandas as pd\n",
        "import numpy as np"
      ],
      "execution_count": 0,
      "outputs": []
    },
    {
      "cell_type": "markdown",
      "metadata": {
        "id": "d-zXcoiPGk7R",
        "colab_type": "text"
      },
      "source": [
        "**3. Connection to MySQL**\n",
        "\n",
        "The data for this project is stored on MySQL with database name 'Capstone1'. Hence, we need to connect to this databse using host and login credentials to fetch the data on the notebook."
      ]
    },
    {
      "cell_type": "code",
      "metadata": {
        "colab_type": "code",
        "id": "jQEDX9sNOy8Q",
        "colab": {}
      },
      "source": [
        "cnx = mysql.connector.connect(\n",
        "   host=\"cpanel.insaid.co\",\n",
        "   user=\"student\",\n",
        "   passwd=\"student\",\n",
        "   database='Capstone1'\n",
        ")"
      ],
      "execution_count": 0,
      "outputs": []
    },
    {
      "cell_type": "markdown",
      "metadata": {
        "id": "3T3jd9n3Gk7g",
        "colab_type": "text"
      },
      "source": [
        "**4. Declare the cursor ' cursor'**"
      ]
    },
    {
      "cell_type": "code",
      "metadata": {
        "colab_type": "code",
        "id": "CHyhlYkBOy8f",
        "colab": {}
      },
      "source": [
        "cursor = cnx.cursor()"
      ],
      "execution_count": 0,
      "outputs": []
    },
    {
      "cell_type": "markdown",
      "metadata": {
        "id": "Su_WvzETGk7v",
        "colab_type": "text"
      },
      "source": [
        "**5. Query to fetch the data**\n",
        "\n",
        "We are now fetching the data from the 'Capstone1' database using the below lines of codes. Here, we are fetching the tables 'gender_age_train', 'phone_brand_device_model' and 'events_data'.\n",
        "\n",
        "Note that we are fetching the 'events_data' is 6 steps, one for each of the states which are preview of this data analysis namely MadhyaPradesh, Chhattisgarh, Uttaranchal, JammuandKashmir, JammuandKashmir, Goa and Nagaland"
      ]
    },
    {
      "cell_type": "code",
      "metadata": {
        "colab_type": "code",
        "id": "BVC6ROLcOy8u",
        "colab": {}
      },
      "source": [
        "#query for gender_age_train\n",
        "query_gender_age_train = (\"SELECT * FROM gender_age_train\")\n",
        "\n",
        "#query for phone_brand_device_model\n",
        "query_phone_brand_device_model = (\"SELECT * FROM phone_brand_device_model\")\n",
        "\n",
        "#query for events_data\n",
        "##query_events_data = (\"select * from events_data where state in ('MadhyaPradesh', 'Chhattisgarh', 'Uttaranchal', 'JammuandKashmir', 'Goa', 'Nagaland') limit 0,10\")\n",
        "\n",
        "#query for each 6 states one by one as it could be usefyl for down the line analysis\n",
        "query_events_data_MP = (\"select * from events_data where state in ('MadhyaPradesh')\")\n",
        "query_events_data_Ctg = (\"select * from events_data where state in ('Chhattisgarh')\")\n",
        "query_events_data_Utl = (\"select * from events_data where state in ('Uttaranchal')\")\n",
        "query_events_data_JK = (\"select * from events_data where state in ('JammuandKashmir')\")\n",
        "query_events_data_GA = (\"select * from events_data where state in ('Goa')\")\n",
        "query_events_data_NL = (\"select * from events_data where state in ('Nagaland')\")"
      ],
      "execution_count": 0,
      "outputs": []
    },
    {
      "cell_type": "markdown",
      "metadata": {
        "id": "WPsh4a0GGk8G",
        "colab_type": "text"
      },
      "source": [
        "**6. Fetching the data from 'Capstone1' database to respective dataframes.**"
      ]
    },
    {
      "cell_type": "code",
      "metadata": {
        "colab_type": "code",
        "id": "Ny3y80xcOy83",
        "outputId": "0b6eadfc-80aa-4e2f-87e4-7d42b5d2d50b",
        "colab": {
          "base_uri": "https://localhost:8080/",
          "height": 202
        }
      },
      "source": [
        "#dataframe 'df_gender_age_train' contains data and colunm names from the table 'gender_age_train'\n",
        "\n",
        "cursor.execute(query_gender_age_train)\n",
        "table_rows = cursor.fetchall()\n",
        "df_gender_age_train = pd.DataFrame(table_rows)\n",
        "df_gender_age_train.columns=[i[0] for i in cursor.description]\n",
        "df_gender_age_train.head()"
      ],
      "execution_count": 8,
      "outputs": [
        {
          "output_type": "execute_result",
          "data": {
            "text/html": [
              "<div>\n",
              "<style scoped>\n",
              "    .dataframe tbody tr th:only-of-type {\n",
              "        vertical-align: middle;\n",
              "    }\n",
              "\n",
              "    .dataframe tbody tr th {\n",
              "        vertical-align: top;\n",
              "    }\n",
              "\n",
              "    .dataframe thead th {\n",
              "        text-align: right;\n",
              "    }\n",
              "</style>\n",
              "<table border=\"1\" class=\"dataframe\">\n",
              "  <thead>\n",
              "    <tr style=\"text-align: right;\">\n",
              "      <th></th>\n",
              "      <th>device_id</th>\n",
              "      <th>gender</th>\n",
              "      <th>age</th>\n",
              "      <th>group</th>\n",
              "    </tr>\n",
              "  </thead>\n",
              "  <tbody>\n",
              "    <tr>\n",
              "      <th>0</th>\n",
              "      <td>-8076087639492063270</td>\n",
              "      <td>M</td>\n",
              "      <td>35</td>\n",
              "      <td>M32-38</td>\n",
              "    </tr>\n",
              "    <tr>\n",
              "      <th>1</th>\n",
              "      <td>-2897161552818060146</td>\n",
              "      <td>M</td>\n",
              "      <td>35</td>\n",
              "      <td>M32-38</td>\n",
              "    </tr>\n",
              "    <tr>\n",
              "      <th>2</th>\n",
              "      <td>-8260683887967679142</td>\n",
              "      <td>M</td>\n",
              "      <td>35</td>\n",
              "      <td>M32-38</td>\n",
              "    </tr>\n",
              "    <tr>\n",
              "      <th>3</th>\n",
              "      <td>-4938849341048082022</td>\n",
              "      <td>M</td>\n",
              "      <td>30</td>\n",
              "      <td>M29-31</td>\n",
              "    </tr>\n",
              "    <tr>\n",
              "      <th>4</th>\n",
              "      <td>245133531816851882</td>\n",
              "      <td>M</td>\n",
              "      <td>30</td>\n",
              "      <td>M29-31</td>\n",
              "    </tr>\n",
              "  </tbody>\n",
              "</table>\n",
              "</div>"
            ],
            "text/plain": [
              "             device_id gender  age   group\n",
              "0 -8076087639492063270      M   35  M32-38\n",
              "1 -2897161552818060146      M   35  M32-38\n",
              "2 -8260683887967679142      M   35  M32-38\n",
              "3 -4938849341048082022      M   30  M29-31\n",
              "4   245133531816851882      M   30  M29-31"
            ]
          },
          "metadata": {
            "tags": []
          },
          "execution_count": 8
        }
      ]
    },
    {
      "cell_type": "code",
      "metadata": {
        "colab_type": "code",
        "id": "9Gv-fN6MOy9Z",
        "outputId": "e2782e12-583a-4f8d-dd24-4a7fde4321fb",
        "colab": {
          "base_uri": "https://localhost:8080/",
          "height": 202
        }
      },
      "source": [
        "#dataframe 'df_query_phone_brand_device_model' contains data and colunm names from the table 'phone_brand_device_model'\n",
        "\n",
        "cursor.execute(query_phone_brand_device_model)\n",
        "table_rows = cursor.fetchall()\n",
        "df_query_phone_brand_device_model = pd.DataFrame(table_rows)\n",
        "df_query_phone_brand_device_model.columns=[i[0] for i in cursor.description]\n",
        "df_query_phone_brand_device_model.head()"
      ],
      "execution_count": 9,
      "outputs": [
        {
          "output_type": "execute_result",
          "data": {
            "text/html": [
              "<div>\n",
              "<style scoped>\n",
              "    .dataframe tbody tr th:only-of-type {\n",
              "        vertical-align: middle;\n",
              "    }\n",
              "\n",
              "    .dataframe tbody tr th {\n",
              "        vertical-align: top;\n",
              "    }\n",
              "\n",
              "    .dataframe thead th {\n",
              "        text-align: right;\n",
              "    }\n",
              "</style>\n",
              "<table border=\"1\" class=\"dataframe\">\n",
              "  <thead>\n",
              "    <tr style=\"text-align: right;\">\n",
              "      <th></th>\n",
              "      <th>device_id</th>\n",
              "      <th>phone_brand</th>\n",
              "      <th>device_model</th>\n",
              "    </tr>\n",
              "  </thead>\n",
              "  <tbody>\n",
              "    <tr>\n",
              "      <th>0</th>\n",
              "      <td>1877775838486905855</td>\n",
              "      <td>vivo</td>\n",
              "      <td>Y13</td>\n",
              "    </tr>\n",
              "    <tr>\n",
              "      <th>1</th>\n",
              "      <td>-3766087376657242966</td>\n",
              "      <td>小米</td>\n",
              "      <td>V183</td>\n",
              "    </tr>\n",
              "    <tr>\n",
              "      <th>2</th>\n",
              "      <td>-6238937574958215831</td>\n",
              "      <td>OPPO</td>\n",
              "      <td>R7s</td>\n",
              "    </tr>\n",
              "    <tr>\n",
              "      <th>3</th>\n",
              "      <td>8973197758510677470</td>\n",
              "      <td>三星</td>\n",
              "      <td>A368t</td>\n",
              "    </tr>\n",
              "    <tr>\n",
              "      <th>4</th>\n",
              "      <td>-2015528097870762664</td>\n",
              "      <td>小米</td>\n",
              "      <td>红米Note2</td>\n",
              "    </tr>\n",
              "  </tbody>\n",
              "</table>\n",
              "</div>"
            ],
            "text/plain": [
              "             device_id phone_brand device_model\n",
              "0  1877775838486905855        vivo          Y13\n",
              "1 -3766087376657242966          小米         V183\n",
              "2 -6238937574958215831        OPPO          R7s\n",
              "3  8973197758510677470          三星        A368t\n",
              "4 -2015528097870762664          小米      红米Note2"
            ]
          },
          "metadata": {
            "tags": []
          },
          "execution_count": 9
        }
      ]
    },
    {
      "cell_type": "code",
      "metadata": {
        "colab_type": "code",
        "id": "44OKh9eqOy97",
        "outputId": "66779903-d3ff-453e-a546-234d9c09083f",
        "colab": {
          "base_uri": "https://localhost:8080/",
          "height": 202
        }
      },
      "source": [
        "#dataframe 'df_events_data_MP' contains data and colunm names from the table 'events_data' for MadhyaPradesh\n",
        "\n",
        "cursor.execute(query_events_data_MP)\n",
        "table_rows = cursor.fetchall()\n",
        "df_events_data_MP = pd.DataFrame(table_rows)\n",
        "df_events_data_MP.columns=[i[0] for i in cursor.description]\n",
        "df_events_data_MP.head()"
      ],
      "execution_count": 10,
      "outputs": [
        {
          "output_type": "execute_result",
          "data": {
            "text/html": [
              "<div>\n",
              "<style scoped>\n",
              "    .dataframe tbody tr th:only-of-type {\n",
              "        vertical-align: middle;\n",
              "    }\n",
              "\n",
              "    .dataframe tbody tr th {\n",
              "        vertical-align: top;\n",
              "    }\n",
              "\n",
              "    .dataframe thead th {\n",
              "        text-align: right;\n",
              "    }\n",
              "</style>\n",
              "<table border=\"1\" class=\"dataframe\">\n",
              "  <thead>\n",
              "    <tr style=\"text-align: right;\">\n",
              "      <th></th>\n",
              "      <th>event_id</th>\n",
              "      <th>device_id</th>\n",
              "      <th>timestamp</th>\n",
              "      <th>longitude</th>\n",
              "      <th>latitude</th>\n",
              "      <th>city</th>\n",
              "      <th>state</th>\n",
              "    </tr>\n",
              "  </thead>\n",
              "  <tbody>\n",
              "    <tr>\n",
              "      <th>0</th>\n",
              "      <td>10117</td>\n",
              "      <td>-5.323073e+18</td>\n",
              "      <td>2016-05-01 11:11:24</td>\n",
              "      <td>75.939545</td>\n",
              "      <td>22.769171</td>\n",
              "      <td>Indore</td>\n",
              "      <td>MadhyaPradesh</td>\n",
              "    </tr>\n",
              "    <tr>\n",
              "      <th>1</th>\n",
              "      <td>112369</td>\n",
              "      <td>-5.323073e+18</td>\n",
              "      <td>2016-05-04 22:47:19</td>\n",
              "      <td>75.939545</td>\n",
              "      <td>22.769171</td>\n",
              "      <td>Indore</td>\n",
              "      <td>MadhyaPradesh</td>\n",
              "    </tr>\n",
              "    <tr>\n",
              "      <th>2</th>\n",
              "      <td>139098</td>\n",
              "      <td>-5.323073e+18</td>\n",
              "      <td>2016-05-01 09:55:58</td>\n",
              "      <td>75.939545</td>\n",
              "      <td>22.769171</td>\n",
              "      <td>Indore</td>\n",
              "      <td>MadhyaPradesh</td>\n",
              "    </tr>\n",
              "    <tr>\n",
              "      <th>3</th>\n",
              "      <td>190983</td>\n",
              "      <td>-5.323073e+18</td>\n",
              "      <td>2016-05-04 22:51:03</td>\n",
              "      <td>75.939545</td>\n",
              "      <td>22.769171</td>\n",
              "      <td>Indore</td>\n",
              "      <td>MadhyaPradesh</td>\n",
              "    </tr>\n",
              "    <tr>\n",
              "      <th>4</th>\n",
              "      <td>249507</td>\n",
              "      <td>-5.323073e+18</td>\n",
              "      <td>2016-05-01 11:24:12</td>\n",
              "      <td>75.939545</td>\n",
              "      <td>22.769171</td>\n",
              "      <td>Indore</td>\n",
              "      <td>MadhyaPradesh</td>\n",
              "    </tr>\n",
              "  </tbody>\n",
              "</table>\n",
              "</div>"
            ],
            "text/plain": [
              "   event_id     device_id           timestamp  ...   latitude    city          state\n",
              "0     10117 -5.323073e+18 2016-05-01 11:11:24  ...  22.769171  Indore  MadhyaPradesh\n",
              "1    112369 -5.323073e+18 2016-05-04 22:47:19  ...  22.769171  Indore  MadhyaPradesh\n",
              "2    139098 -5.323073e+18 2016-05-01 09:55:58  ...  22.769171  Indore  MadhyaPradesh\n",
              "3    190983 -5.323073e+18 2016-05-04 22:51:03  ...  22.769171  Indore  MadhyaPradesh\n",
              "4    249507 -5.323073e+18 2016-05-01 11:24:12  ...  22.769171  Indore  MadhyaPradesh\n",
              "\n",
              "[5 rows x 7 columns]"
            ]
          },
          "metadata": {
            "tags": []
          },
          "execution_count": 10
        }
      ]
    },
    {
      "cell_type": "code",
      "metadata": {
        "colab_type": "code",
        "id": "Aen6DENoRmBj",
        "outputId": "56e4c8f5-9a35-42b7-b206-7f465921e876",
        "colab": {
          "base_uri": "https://localhost:8080/",
          "height": 202
        }
      },
      "source": [
        "#dataframe 'df_events_data_Ctg' contains data and colunm names from the table 'events_data' for Chhattisgarh\n",
        "\n",
        "cursor.execute(query_events_data_Ctg)\n",
        "table_rows = cursor.fetchall()\n",
        "df_events_data_Ctg = pd.DataFrame(table_rows)\n",
        "df_events_data_Ctg.columns=[i[0] for i in cursor.description]\n",
        "df_events_data_Ctg.head()"
      ],
      "execution_count": 11,
      "outputs": [
        {
          "output_type": "execute_result",
          "data": {
            "text/html": [
              "<div>\n",
              "<style scoped>\n",
              "    .dataframe tbody tr th:only-of-type {\n",
              "        vertical-align: middle;\n",
              "    }\n",
              "\n",
              "    .dataframe tbody tr th {\n",
              "        vertical-align: top;\n",
              "    }\n",
              "\n",
              "    .dataframe thead th {\n",
              "        text-align: right;\n",
              "    }\n",
              "</style>\n",
              "<table border=\"1\" class=\"dataframe\">\n",
              "  <thead>\n",
              "    <tr style=\"text-align: right;\">\n",
              "      <th></th>\n",
              "      <th>event_id</th>\n",
              "      <th>device_id</th>\n",
              "      <th>timestamp</th>\n",
              "      <th>longitude</th>\n",
              "      <th>latitude</th>\n",
              "      <th>city</th>\n",
              "      <th>state</th>\n",
              "    </tr>\n",
              "  </thead>\n",
              "  <tbody>\n",
              "    <tr>\n",
              "      <th>0</th>\n",
              "      <td>21994</td>\n",
              "      <td>3170675365100452735</td>\n",
              "      <td>2016-05-04 19:44:31</td>\n",
              "      <td>81.647987</td>\n",
              "      <td>21.284864</td>\n",
              "      <td>Raipur</td>\n",
              "      <td>Chhattisgarh</td>\n",
              "    </tr>\n",
              "    <tr>\n",
              "      <th>1</th>\n",
              "      <td>60725</td>\n",
              "      <td>3170675365100452735</td>\n",
              "      <td>2016-05-02 22:02:20</td>\n",
              "      <td>81.647987</td>\n",
              "      <td>21.284864</td>\n",
              "      <td>Raipur</td>\n",
              "      <td>Chhattisgarh</td>\n",
              "    </tr>\n",
              "    <tr>\n",
              "      <th>2</th>\n",
              "      <td>64448</td>\n",
              "      <td>3170675365100452735</td>\n",
              "      <td>2016-05-05 01:08:34</td>\n",
              "      <td>81.647987</td>\n",
              "      <td>21.284864</td>\n",
              "      <td>Raipur</td>\n",
              "      <td>Chhattisgarh</td>\n",
              "    </tr>\n",
              "    <tr>\n",
              "      <th>3</th>\n",
              "      <td>65830</td>\n",
              "      <td>3170675365100452735</td>\n",
              "      <td>2016-05-04 00:50:31</td>\n",
              "      <td>81.647987</td>\n",
              "      <td>21.284864</td>\n",
              "      <td>Raipur</td>\n",
              "      <td>Chhattisgarh</td>\n",
              "    </tr>\n",
              "    <tr>\n",
              "      <th>4</th>\n",
              "      <td>70306</td>\n",
              "      <td>3170675365100452735</td>\n",
              "      <td>2016-05-07 00:33:50</td>\n",
              "      <td>81.647987</td>\n",
              "      <td>21.284864</td>\n",
              "      <td>Raipur</td>\n",
              "      <td>Chhattisgarh</td>\n",
              "    </tr>\n",
              "  </tbody>\n",
              "</table>\n",
              "</div>"
            ],
            "text/plain": [
              "   event_id            device_id  ...    city         state\n",
              "0     21994  3170675365100452735  ...  Raipur  Chhattisgarh\n",
              "1     60725  3170675365100452735  ...  Raipur  Chhattisgarh\n",
              "2     64448  3170675365100452735  ...  Raipur  Chhattisgarh\n",
              "3     65830  3170675365100452735  ...  Raipur  Chhattisgarh\n",
              "4     70306  3170675365100452735  ...  Raipur  Chhattisgarh\n",
              "\n",
              "[5 rows x 7 columns]"
            ]
          },
          "metadata": {
            "tags": []
          },
          "execution_count": 11
        }
      ]
    },
    {
      "cell_type": "code",
      "metadata": {
        "colab_type": "code",
        "id": "UQDJ6DcaRwg_",
        "outputId": "bdff53dc-c401-4b74-c4e4-d9c2fcebaa66",
        "colab": {
          "base_uri": "https://localhost:8080/",
          "height": 202
        }
      },
      "source": [
        "#dataframe 'df_events_data_Utl' contains data and colunm names from the table 'events_data' for Uttaranchal\n",
        "\n",
        "cursor.execute(query_events_data_Utl)\n",
        "table_rows = cursor.fetchall()\n",
        "df_events_data_Utl = pd.DataFrame(table_rows)\n",
        "df_events_data_Utl.columns=[i[0] for i in cursor.description]\n",
        "df_events_data_Utl.head()"
      ],
      "execution_count": 12,
      "outputs": [
        {
          "output_type": "execute_result",
          "data": {
            "text/html": [
              "<div>\n",
              "<style scoped>\n",
              "    .dataframe tbody tr th:only-of-type {\n",
              "        vertical-align: middle;\n",
              "    }\n",
              "\n",
              "    .dataframe tbody tr th {\n",
              "        vertical-align: top;\n",
              "    }\n",
              "\n",
              "    .dataframe thead th {\n",
              "        text-align: right;\n",
              "    }\n",
              "</style>\n",
              "<table border=\"1\" class=\"dataframe\">\n",
              "  <thead>\n",
              "    <tr style=\"text-align: right;\">\n",
              "      <th></th>\n",
              "      <th>event_id</th>\n",
              "      <th>device_id</th>\n",
              "      <th>timestamp</th>\n",
              "      <th>longitude</th>\n",
              "      <th>latitude</th>\n",
              "      <th>city</th>\n",
              "      <th>state</th>\n",
              "    </tr>\n",
              "  </thead>\n",
              "  <tbody>\n",
              "    <tr>\n",
              "      <th>0</th>\n",
              "      <td>21134</td>\n",
              "      <td>3256357565700008048</td>\n",
              "      <td>2016-05-07 18:39:49</td>\n",
              "      <td>80.266388</td>\n",
              "      <td>29.64415</td>\n",
              "      <td>Pithoragarh</td>\n",
              "      <td>Uttaranchal</td>\n",
              "    </tr>\n",
              "    <tr>\n",
              "      <th>1</th>\n",
              "      <td>66274</td>\n",
              "      <td>3256357565700008048</td>\n",
              "      <td>2016-05-07 00:14:05</td>\n",
              "      <td>80.266388</td>\n",
              "      <td>29.64415</td>\n",
              "      <td>Pithoragarh</td>\n",
              "      <td>Uttaranchal</td>\n",
              "    </tr>\n",
              "    <tr>\n",
              "      <th>2</th>\n",
              "      <td>89957</td>\n",
              "      <td>3256357565700008048</td>\n",
              "      <td>2016-05-02 10:35:29</td>\n",
              "      <td>80.266388</td>\n",
              "      <td>29.64415</td>\n",
              "      <td>Pithoragarh</td>\n",
              "      <td>Uttaranchal</td>\n",
              "    </tr>\n",
              "    <tr>\n",
              "      <th>3</th>\n",
              "      <td>104129</td>\n",
              "      <td>3256357565700008048</td>\n",
              "      <td>2016-05-06 15:38:15</td>\n",
              "      <td>80.266388</td>\n",
              "      <td>29.64415</td>\n",
              "      <td>Pithoragarh</td>\n",
              "      <td>Uttaranchal</td>\n",
              "    </tr>\n",
              "    <tr>\n",
              "      <th>4</th>\n",
              "      <td>165628</td>\n",
              "      <td>3256357565700008048</td>\n",
              "      <td>2016-05-06 06:17:42</td>\n",
              "      <td>80.266388</td>\n",
              "      <td>29.64415</td>\n",
              "      <td>Pithoragarh</td>\n",
              "      <td>Uttaranchal</td>\n",
              "    </tr>\n",
              "  </tbody>\n",
              "</table>\n",
              "</div>"
            ],
            "text/plain": [
              "   event_id            device_id  ...         city        state\n",
              "0     21134  3256357565700008048  ...  Pithoragarh  Uttaranchal\n",
              "1     66274  3256357565700008048  ...  Pithoragarh  Uttaranchal\n",
              "2     89957  3256357565700008048  ...  Pithoragarh  Uttaranchal\n",
              "3    104129  3256357565700008048  ...  Pithoragarh  Uttaranchal\n",
              "4    165628  3256357565700008048  ...  Pithoragarh  Uttaranchal\n",
              "\n",
              "[5 rows x 7 columns]"
            ]
          },
          "metadata": {
            "tags": []
          },
          "execution_count": 12
        }
      ]
    },
    {
      "cell_type": "code",
      "metadata": {
        "colab_type": "code",
        "id": "MmscSTXvRwey",
        "outputId": "07b50bbb-2dd2-42fd-a35c-2133117c041a",
        "colab": {
          "base_uri": "https://localhost:8080/",
          "height": 202
        }
      },
      "source": [
        "#dataframe 'df_events_data_JK' contains data and colunm names from the table 'events_data' for JammuandKashmir\n",
        "\n",
        "cursor.execute(query_events_data_JK)\n",
        "table_rows = cursor.fetchall()\n",
        "df_events_data_JK = pd.DataFrame(table_rows)\n",
        "df_events_data_JK.columns=[i[0] for i in cursor.description]\n",
        "df_events_data_JK.head()"
      ],
      "execution_count": 13,
      "outputs": [
        {
          "output_type": "execute_result",
          "data": {
            "text/html": [
              "<div>\n",
              "<style scoped>\n",
              "    .dataframe tbody tr th:only-of-type {\n",
              "        vertical-align: middle;\n",
              "    }\n",
              "\n",
              "    .dataframe tbody tr th {\n",
              "        vertical-align: top;\n",
              "    }\n",
              "\n",
              "    .dataframe thead th {\n",
              "        text-align: right;\n",
              "    }\n",
              "</style>\n",
              "<table border=\"1\" class=\"dataframe\">\n",
              "  <thead>\n",
              "    <tr style=\"text-align: right;\">\n",
              "      <th></th>\n",
              "      <th>event_id</th>\n",
              "      <th>device_id</th>\n",
              "      <th>timestamp</th>\n",
              "      <th>longitude</th>\n",
              "      <th>latitude</th>\n",
              "      <th>city</th>\n",
              "      <th>state</th>\n",
              "    </tr>\n",
              "  </thead>\n",
              "  <tbody>\n",
              "    <tr>\n",
              "      <th>0</th>\n",
              "      <td>21771</td>\n",
              "      <td>345465158970686742</td>\n",
              "      <td>2016-05-03 19:35:53</td>\n",
              "      <td>75.242622</td>\n",
              "      <td>33.808079</td>\n",
              "      <td>Anantnag</td>\n",
              "      <td>JammuandKashmir</td>\n",
              "    </tr>\n",
              "    <tr>\n",
              "      <th>1</th>\n",
              "      <td>23486</td>\n",
              "      <td>345465158970686742</td>\n",
              "      <td>2016-05-03 20:04:00</td>\n",
              "      <td>75.242622</td>\n",
              "      <td>33.808079</td>\n",
              "      <td>Anantnag</td>\n",
              "      <td>JammuandKashmir</td>\n",
              "    </tr>\n",
              "    <tr>\n",
              "      <th>2</th>\n",
              "      <td>23739</td>\n",
              "      <td>345465158970686742</td>\n",
              "      <td>2016-05-04 20:36:53</td>\n",
              "      <td>75.242622</td>\n",
              "      <td>33.808079</td>\n",
              "      <td>Anantnag</td>\n",
              "      <td>JammuandKashmir</td>\n",
              "    </tr>\n",
              "    <tr>\n",
              "      <th>3</th>\n",
              "      <td>23740</td>\n",
              "      <td>345465158970686742</td>\n",
              "      <td>2016-05-04 20:47:17</td>\n",
              "      <td>75.242622</td>\n",
              "      <td>33.808079</td>\n",
              "      <td>Anantnag</td>\n",
              "      <td>JammuandKashmir</td>\n",
              "    </tr>\n",
              "    <tr>\n",
              "      <th>4</th>\n",
              "      <td>44968</td>\n",
              "      <td>345465158970686742</td>\n",
              "      <td>2016-05-02 13:55:56</td>\n",
              "      <td>75.242622</td>\n",
              "      <td>33.808079</td>\n",
              "      <td>Anantnag</td>\n",
              "      <td>JammuandKashmir</td>\n",
              "    </tr>\n",
              "  </tbody>\n",
              "</table>\n",
              "</div>"
            ],
            "text/plain": [
              "   event_id           device_id  ...      city            state\n",
              "0     21771  345465158970686742  ...  Anantnag  JammuandKashmir\n",
              "1     23486  345465158970686742  ...  Anantnag  JammuandKashmir\n",
              "2     23739  345465158970686742  ...  Anantnag  JammuandKashmir\n",
              "3     23740  345465158970686742  ...  Anantnag  JammuandKashmir\n",
              "4     44968  345465158970686742  ...  Anantnag  JammuandKashmir\n",
              "\n",
              "[5 rows x 7 columns]"
            ]
          },
          "metadata": {
            "tags": []
          },
          "execution_count": 13
        }
      ]
    },
    {
      "cell_type": "code",
      "metadata": {
        "colab_type": "code",
        "id": "AWqsqcyNTqnI",
        "outputId": "631316e9-f955-4e04-cafa-c61e31c39893",
        "colab": {
          "base_uri": "https://localhost:8080/",
          "height": 202
        }
      },
      "source": [
        "#dataframe 'df_events_data_GA' contains data and colunm names from the table 'events_data' for Goa\n",
        "\n",
        "cursor.execute(query_events_data_GA)\n",
        "table_rows = cursor.fetchall()\n",
        "df_events_data_GA = pd.DataFrame(table_rows)\n",
        "df_events_data_GA.columns=[i[0] for i in cursor.description]\n",
        "df_events_data_GA.head()"
      ],
      "execution_count": 14,
      "outputs": [
        {
          "output_type": "execute_result",
          "data": {
            "text/html": [
              "<div>\n",
              "<style scoped>\n",
              "    .dataframe tbody tr th:only-of-type {\n",
              "        vertical-align: middle;\n",
              "    }\n",
              "\n",
              "    .dataframe tbody tr th {\n",
              "        vertical-align: top;\n",
              "    }\n",
              "\n",
              "    .dataframe thead th {\n",
              "        text-align: right;\n",
              "    }\n",
              "</style>\n",
              "<table border=\"1\" class=\"dataframe\">\n",
              "  <thead>\n",
              "    <tr style=\"text-align: right;\">\n",
              "      <th></th>\n",
              "      <th>event_id</th>\n",
              "      <th>device_id</th>\n",
              "      <th>timestamp</th>\n",
              "      <th>longitude</th>\n",
              "      <th>latitude</th>\n",
              "      <th>city</th>\n",
              "      <th>state</th>\n",
              "    </tr>\n",
              "  </thead>\n",
              "  <tbody>\n",
              "    <tr>\n",
              "      <th>0</th>\n",
              "      <td>20984</td>\n",
              "      <td>-6751207669980900563</td>\n",
              "      <td>2016-05-06 18:23:03</td>\n",
              "      <td>73.973602</td>\n",
              "      <td>15.317287</td>\n",
              "      <td>Madgaon</td>\n",
              "      <td>Goa</td>\n",
              "    </tr>\n",
              "    <tr>\n",
              "      <th>1</th>\n",
              "      <td>33979</td>\n",
              "      <td>-6751207669980900563</td>\n",
              "      <td>2016-05-04 06:02:36</td>\n",
              "      <td>73.973602</td>\n",
              "      <td>15.317287</td>\n",
              "      <td>Madgaon</td>\n",
              "      <td>Goa</td>\n",
              "    </tr>\n",
              "    <tr>\n",
              "      <th>2</th>\n",
              "      <td>104768</td>\n",
              "      <td>-6751207669980900563</td>\n",
              "      <td>2016-05-07 15:11:31</td>\n",
              "      <td>73.973602</td>\n",
              "      <td>15.317287</td>\n",
              "      <td>Madgaon</td>\n",
              "      <td>Goa</td>\n",
              "    </tr>\n",
              "    <tr>\n",
              "      <th>3</th>\n",
              "      <td>135615</td>\n",
              "      <td>-6751207669980900563</td>\n",
              "      <td>2016-05-07 15:10:31</td>\n",
              "      <td>73.973602</td>\n",
              "      <td>15.317287</td>\n",
              "      <td>Madgaon</td>\n",
              "      <td>Goa</td>\n",
              "    </tr>\n",
              "    <tr>\n",
              "      <th>4</th>\n",
              "      <td>420749</td>\n",
              "      <td>-6751207669980900563</td>\n",
              "      <td>2016-05-07 15:12:39</td>\n",
              "      <td>73.973602</td>\n",
              "      <td>15.317287</td>\n",
              "      <td>Madgaon</td>\n",
              "      <td>Goa</td>\n",
              "    </tr>\n",
              "  </tbody>\n",
              "</table>\n",
              "</div>"
            ],
            "text/plain": [
              "   event_id            device_id           timestamp  ...   latitude     city state\n",
              "0     20984 -6751207669980900563 2016-05-06 18:23:03  ...  15.317287  Madgaon   Goa\n",
              "1     33979 -6751207669980900563 2016-05-04 06:02:36  ...  15.317287  Madgaon   Goa\n",
              "2    104768 -6751207669980900563 2016-05-07 15:11:31  ...  15.317287  Madgaon   Goa\n",
              "3    135615 -6751207669980900563 2016-05-07 15:10:31  ...  15.317287  Madgaon   Goa\n",
              "4    420749 -6751207669980900563 2016-05-07 15:12:39  ...  15.317287  Madgaon   Goa\n",
              "\n",
              "[5 rows x 7 columns]"
            ]
          },
          "metadata": {
            "tags": []
          },
          "execution_count": 14
        }
      ]
    },
    {
      "cell_type": "code",
      "metadata": {
        "colab_type": "code",
        "id": "YhOdIKJQTqkj",
        "outputId": "9cded738-6400-400e-9772-4b006e5986e1",
        "colab": {
          "base_uri": "https://localhost:8080/",
          "height": 202
        }
      },
      "source": [
        "#dataframe 'df_events_data_NL' contains data and colunm names from the table 'events_data' for Nagaland\n",
        "\n",
        "cursor.execute(query_events_data_NL)\n",
        "table_rows = cursor.fetchall()\n",
        "df_events_data_NL = pd.DataFrame(table_rows)\n",
        "df_events_data_NL.columns=[i[0] for i in cursor.description]\n",
        "df_events_data_NL.head()"
      ],
      "execution_count": 15,
      "outputs": [
        {
          "output_type": "execute_result",
          "data": {
            "text/html": [
              "<div>\n",
              "<style scoped>\n",
              "    .dataframe tbody tr th:only-of-type {\n",
              "        vertical-align: middle;\n",
              "    }\n",
              "\n",
              "    .dataframe tbody tr th {\n",
              "        vertical-align: top;\n",
              "    }\n",
              "\n",
              "    .dataframe thead th {\n",
              "        text-align: right;\n",
              "    }\n",
              "</style>\n",
              "<table border=\"1\" class=\"dataframe\">\n",
              "  <thead>\n",
              "    <tr style=\"text-align: right;\">\n",
              "      <th></th>\n",
              "      <th>event_id</th>\n",
              "      <th>device_id</th>\n",
              "      <th>timestamp</th>\n",
              "      <th>longitude</th>\n",
              "      <th>latitude</th>\n",
              "      <th>city</th>\n",
              "      <th>state</th>\n",
              "    </tr>\n",
              "  </thead>\n",
              "  <tbody>\n",
              "    <tr>\n",
              "      <th>0</th>\n",
              "      <td>22093</td>\n",
              "      <td>9132041579920627992</td>\n",
              "      <td>2016-05-04 19:03:15</td>\n",
              "      <td>94.354393</td>\n",
              "      <td>26.183962</td>\n",
              "      <td>Wokha</td>\n",
              "      <td>Nagaland</td>\n",
              "    </tr>\n",
              "    <tr>\n",
              "      <th>1</th>\n",
              "      <td>22794</td>\n",
              "      <td>9132041579920627992</td>\n",
              "      <td>2016-05-07 19:37:42</td>\n",
              "      <td>94.354393</td>\n",
              "      <td>26.183962</td>\n",
              "      <td>Wokha</td>\n",
              "      <td>Nagaland</td>\n",
              "    </tr>\n",
              "    <tr>\n",
              "      <th>2</th>\n",
              "      <td>55519</td>\n",
              "      <td>9132041579920627992</td>\n",
              "      <td>2016-05-05 19:22:27</td>\n",
              "      <td>94.354393</td>\n",
              "      <td>26.183962</td>\n",
              "      <td>Wokha</td>\n",
              "      <td>Nagaland</td>\n",
              "    </tr>\n",
              "    <tr>\n",
              "      <th>3</th>\n",
              "      <td>55692</td>\n",
              "      <td>9132041579920627992</td>\n",
              "      <td>2016-05-05 19:17:15</td>\n",
              "      <td>94.354393</td>\n",
              "      <td>26.183962</td>\n",
              "      <td>Wokha</td>\n",
              "      <td>Nagaland</td>\n",
              "    </tr>\n",
              "    <tr>\n",
              "      <th>4</th>\n",
              "      <td>102376</td>\n",
              "      <td>9132041579920627992</td>\n",
              "      <td>2016-05-04 19:01:14</td>\n",
              "      <td>94.354393</td>\n",
              "      <td>26.183962</td>\n",
              "      <td>Wokha</td>\n",
              "      <td>Nagaland</td>\n",
              "    </tr>\n",
              "  </tbody>\n",
              "</table>\n",
              "</div>"
            ],
            "text/plain": [
              "   event_id            device_id  ...   city     state\n",
              "0     22093  9132041579920627992  ...  Wokha  Nagaland\n",
              "1     22794  9132041579920627992  ...  Wokha  Nagaland\n",
              "2     55519  9132041579920627992  ...  Wokha  Nagaland\n",
              "3     55692  9132041579920627992  ...  Wokha  Nagaland\n",
              "4    102376  9132041579920627992  ...  Wokha  Nagaland\n",
              "\n",
              "[5 rows x 7 columns]"
            ]
          },
          "metadata": {
            "tags": []
          },
          "execution_count": 15
        }
      ]
    },
    {
      "cell_type": "markdown",
      "metadata": {
        "id": "tTfRhhV1Gk9W",
        "colab_type": "text"
      },
      "source": [
        "**7. Concaticating individual dataframes for different states into a single consolidates dataframe 'df_events_data' **"
      ]
    },
    {
      "cell_type": "code",
      "metadata": {
        "colab_type": "code",
        "id": "9MTZLLLyWLFE",
        "outputId": "381c25dd-4b1d-4bc3-ceaf-c790db6ddbd6",
        "colab": {
          "base_uri": "https://localhost:8080/",
          "height": 35
        }
      },
      "source": [
        "frames = (df_events_data_MP, df_events_data_Ctg, df_events_data_Utl, df_events_data_JK, df_events_data_GA, df_events_data_NL)\n",
        "df_events_data = pd.concat(frames)\n",
        "df_events_data.shape"
      ],
      "execution_count": 16,
      "outputs": [
        {
          "output_type": "execute_result",
          "data": {
            "text/plain": [
              "(261097, 7)"
            ]
          },
          "metadata": {
            "tags": []
          },
          "execution_count": 16
        }
      ]
    },
    {
      "cell_type": "markdown",
      "metadata": {
        "id": "SHBV2H1UGk92",
        "colab_type": "text"
      },
      "source": [
        "**8. Exploratory Data Amalysis**"
      ]
    },
    {
      "cell_type": "code",
      "metadata": {
        "id": "_YZAfYNcGk95",
        "colab_type": "code",
        "colab": {
          "base_uri": "https://localhost:8080/",
          "height": 156
        },
        "outputId": "4dcf2363-a4c4-4348-fa1b-54b47a8f08c3"
      },
      "source": [
        "print('Shape of df_gender_age_train is ', df_gender_age_train.shape)\n",
        "print('Shape of df_query_phone_brand_device_model is', df_query_phone_brand_device_model.shape)\n",
        "print('Shape of df_events_data_MP is', df_events_data_MP.shape)\n",
        "print('Shape of df_events_data_Ctg is', df_events_data_Ctg.shape)\n",
        "print('Shape of df_events_data_Utl is', df_events_data_Utl.shape)\n",
        "print('Shape of df_events_data_JK is', df_events_data_JK.shape)\n",
        "print('Shape of df_events_data_GA is', df_events_data_GA.shape)\n",
        "print('Shape of df_events_data_NL is', df_events_data_NL.shape)"
      ],
      "execution_count": 17,
      "outputs": [
        {
          "output_type": "stream",
          "text": [
            "Shape of df_gender_age_train is  (74645, 4)\n",
            "Shape of df_query_phone_brand_device_model is (87726, 3)\n",
            "Shape of df_events_data_MP is (232690, 7)\n",
            "Shape of df_events_data_Ctg is (9754, 7)\n",
            "Shape of df_events_data_Utl is (7720, 7)\n",
            "Shape of df_events_data_JK is (5385, 7)\n",
            "Shape of df_events_data_GA is (3250, 7)\n",
            "Shape of df_events_data_NL is (2298, 7)\n"
          ],
          "name": "stdout"
        }
      ]
    },
    {
      "cell_type": "code",
      "metadata": {
        "colab_type": "code",
        "id": "0G81iK-SWLCW",
        "outputId": "aefbf9aa-0ba0-4e88-f0a5-60397f5bde63",
        "colab": {
          "base_uri": "https://localhost:8080/",
          "height": 104
        }
      },
      "source": [
        "print('Column names of gender_age_train are ', df_gender_age_train.columns)\n",
        "print('Column names of query_phone_brand_device_model are ', df_query_phone_brand_device_model.columns)\n",
        "print('Column names of events_data are ', df_events_data.columns)\n"
      ],
      "execution_count": 19,
      "outputs": [
        {
          "output_type": "stream",
          "text": [
            "Column names of gender_age_train are  Index(['device_id', 'gender', 'age', 'group'], dtype='object')\n",
            "Column names of query_phone_brand_device_model are  Index(['device_id', 'phone_brand', 'device_model'], dtype='object')\n",
            "Column names of events_data are  Index(['event_id', 'device_id', 'timestamp', 'longitude', 'latitude', 'city',\n",
            "       'state'],\n",
            "      dtype='object')\n"
          ],
          "name": "stdout"
        }
      ]
    },
    {
      "cell_type": "code",
      "metadata": {
        "colab_type": "code",
        "id": "Xl679LJRWK9i",
        "outputId": "a7fe5101-3d28-41dd-f098-8c04c2535911",
        "colab": {
          "base_uri": "https://localhost:8080/",
          "height": 225
        }
      },
      "source": [
        "df_events_data.info()"
      ],
      "execution_count": 20,
      "outputs": [
        {
          "output_type": "stream",
          "text": [
            "<class 'pandas.core.frame.DataFrame'>\n",
            "Int64Index: 261097 entries, 0 to 2297\n",
            "Data columns (total 7 columns):\n",
            "event_id     261097 non-null int64\n",
            "device_id    261046 non-null float64\n",
            "timestamp    261097 non-null datetime64[ns]\n",
            "longitude    261034 non-null float64\n",
            "latitude     261034 non-null float64\n",
            "city         261097 non-null object\n",
            "state        261097 non-null object\n",
            "dtypes: datetime64[ns](1), float64(3), int64(1), object(2)\n",
            "memory usage: 15.9+ MB\n"
          ],
          "name": "stdout"
        }
      ]
    },
    {
      "cell_type": "code",
      "metadata": {
        "colab_type": "code",
        "id": "oJF7KqzpfBIn",
        "outputId": "a5f747c0-24bd-47eb-9ca1-0882e601ddb1",
        "colab": {
          "base_uri": "https://localhost:8080/",
          "height": 156
        }
      },
      "source": [
        "#null values check\n",
        "df_events_data.isnull().sum()"
      ],
      "execution_count": 21,
      "outputs": [
        {
          "output_type": "execute_result",
          "data": {
            "text/plain": [
              "event_id      0\n",
              "device_id    51\n",
              "timestamp     0\n",
              "longitude    63\n",
              "latitude     63\n",
              "city          0\n",
              "state         0\n",
              "dtype: int64"
            ]
          },
          "metadata": {
            "tags": []
          },
          "execution_count": 21
        }
      ]
    },
    {
      "cell_type": "code",
      "metadata": {
        "colab_type": "code",
        "id": "YbxKrfrsRwbi",
        "outputId": "fb6e9206-c38d-4ac1-f8f2-bb82757397ee",
        "colab": {
          "base_uri": "https://localhost:8080/",
          "height": 173
        }
      },
      "source": [
        "df_gender_age_train.info()"
      ],
      "execution_count": 22,
      "outputs": [
        {
          "output_type": "stream",
          "text": [
            "<class 'pandas.core.frame.DataFrame'>\n",
            "RangeIndex: 74645 entries, 0 to 74644\n",
            "Data columns (total 4 columns):\n",
            "device_id    74645 non-null int64\n",
            "gender       74645 non-null object\n",
            "age          74645 non-null int64\n",
            "group        74645 non-null object\n",
            "dtypes: int64(2), object(2)\n",
            "memory usage: 2.3+ MB\n"
          ],
          "name": "stdout"
        }
      ]
    },
    {
      "cell_type": "code",
      "metadata": {
        "colab_type": "code",
        "id": "BaOpu1_EcVt0",
        "outputId": "ce7cc38d-b4bc-4a8a-c905-6ef55b61597b",
        "colab": {
          "base_uri": "https://localhost:8080/",
          "height": 156
        }
      },
      "source": [
        "df_query_phone_brand_device_model.info()"
      ],
      "execution_count": 23,
      "outputs": [
        {
          "output_type": "stream",
          "text": [
            "<class 'pandas.core.frame.DataFrame'>\n",
            "RangeIndex: 87726 entries, 0 to 87725\n",
            "Data columns (total 3 columns):\n",
            "device_id       87726 non-null int64\n",
            "phone_brand     87726 non-null object\n",
            "device_model    87726 non-null object\n",
            "dtypes: int64(1), object(2)\n",
            "memory usage: 2.0+ MB\n"
          ],
          "name": "stdout"
        }
      ]
    },
    {
      "cell_type": "code",
      "metadata": {
        "colab_type": "code",
        "id": "CpR9jKBmcVjc",
        "colab": {}
      },
      "source": [
        ""
      ],
      "execution_count": 0,
      "outputs": []
    }
  ]
}